{
 "cells": [
  {
   "cell_type": "code",
   "execution_count": 178,
   "id": "3155cfa9",
   "metadata": {},
   "outputs": [],
   "source": [
    "import snscrape.modules.twitter as sntwitter\n",
    "import pandas as pd"
   ]
  },
  {
   "cell_type": "code",
   "execution_count": 184,
   "id": "6cd7b734",
   "metadata": {},
   "outputs": [
    {
     "name": "stderr",
     "output_type": "stream",
     "text": [
      "<timed exec>:11: FutureWarning: content is deprecated, use rawContent instead\n"
     ]
    },
    {
     "name": "stdout",
     "output_type": "stream",
     "text": [
      "CPU times: total: 1min 40s\n",
      "Wall time: 2h 42min 45s\n"
     ]
    }
   ],
   "source": [
    "%%time\n",
    "1 + 1\n",
    "attributes_container = []\n",
    "days = ['01', '02', '03', '04', '05', '06', '07', '08', '09', '10', '11', '12', '13', '14', '15', '16', '17', '18', '19', '20', '21', '22', '23', '24', '25', '26', '27', '28', '29', '30', '31']\n",
    "max_tweets = 10000\n",
    "\n",
    "for n in days:\n",
    "    try:\n",
    "        for i, tweet in enumerate(sntwitter.TwitterSearchScraper('Russia until:2022-08-'+n).get_items()):\n",
    "            if i>max_tweets:\n",
    "                break\n",
    "            attributes_container.append([tweet.likeCount, tweet.content, tweet.date])\n",
    "    except KeyError:\n",
    "        pass"
   ]
  },
  {
   "cell_type": "code",
   "execution_count": 185,
   "id": "eb6da32d",
   "metadata": {},
   "outputs": [],
   "source": [
    "tweets = pd.DataFrame(attributes_container, columns=[\"Number of Likes\", \"Tweet\", \"Date\"])\n",
    "tweets_before = tweets"
   ]
  },
  {
   "cell_type": "code",
   "execution_count": 188,
   "id": "52007be0",
   "metadata": {},
   "outputs": [],
   "source": [
    "tweets_before.to_csv('august.csv', sep=',', index=False)"
   ]
  }
 ],
 "metadata": {
  "kernelspec": {
   "display_name": "Python 3 (ipykernel)",
   "language": "python",
   "name": "python3"
  },
  "language_info": {
   "codemirror_mode": {
    "name": "ipython",
    "version": 3
   },
   "file_extension": ".py",
   "mimetype": "text/x-python",
   "name": "python",
   "nbconvert_exporter": "python",
   "pygments_lexer": "ipython3",
   "version": "3.9.12"
  }
 },
 "nbformat": 4,
 "nbformat_minor": 5
}
